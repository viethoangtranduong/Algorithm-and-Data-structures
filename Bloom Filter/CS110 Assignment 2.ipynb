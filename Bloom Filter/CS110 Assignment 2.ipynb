{
 "cells": [
  {
   "cell_type": "markdown",
   "metadata": {},
   "source": [
    "##  Give an overview of the types of operations that a Bloom filter supports, and where Bloom filters might be useful"
   ]
  },
  {
   "cell_type": "markdown",
   "metadata": {},
   "source": [
    "Bloom filters are space-efficient randomized data structures for fast membership queries. A Bloom filter uses $\\textbf{m}$ bits to represent $\\textbf{n}$ elements by using $\\textbf{k}$ independent hash functions, with the false positive rate $\\textbf{pf}$. Bloom filters allow false positives when querying an element, that is, returning true when the element is not in the set, but not false negatives, that is, returning false when the element is not in the set. \n",
    "\n",
    "In this assignment, I will use Counting Bloom Filter: \n",
    "\n",
    "Counting Bloom Filters (CBFs) perform the same operations on dynamic sets that can be updated via insertions and deletions. CBF extends Bloom filters by using a fixed-size counter instead of a single bit for each entry in the vector. When an element is inserted into CBF, the corresponding counters are incremented; deletions can now be safely done by decrementing the counters. To avoid counter overflow, we choose four bits per counter for most applications. \n",
    "\n",
    "Bloom filters have found widespread applications in databases, network applications, and distributed systems. Because of its characteristics, bloom filters are suitable for a number of applications where a small probability of getting false positives is fine as long as we don’t get any false negatives (e.g. check whether a specific item is in the storage or not; Keep track of the pages that a given user has visited without actually store every URL they visited; representing your contact list to suggest adding new contacts, etc.). One specific example is within the storage of Amazon of over 564 million products. If we need the false positive rate $fp = 0.001$, we can use 8.1 billion slots $m=8.1$ (billion), with 10 hash functions $k=10$. We first use bloom filter to check if the item is in the database. If no, we don't need to check any further. Else, we can perform other type of search (binary search, etc.) to double-check whether the item is in the database. The benefits of using Bloom filter is when it resulted in \"item not in the database\", which we are certain that it will not be in the database, hence, no further search needed -> efficient compared to having to do binary search every times we need to check an item.\n",
    "\n",
    "The benefits of using counting bloom filter is the deletion function. If you know for sure that an element is in the list and you want to delete it, you can do it by get its position by using $k$ hash functions. Then delete each position by 1, which will demonstrate the deletion. For example, in Amazon store, after knowing the item might be in the storage by using bloom filter, the manager run a binary search to find the item. After which, the item is sold and permanently deleted from the storage. Hence, we can use the deletion advantage of counting boom filter. For standard boom filter, you cannot perform deletion as you don't know whether that slot only belongs to the removed items or is it also the hashes of other elements. The deletion function will also be demonstrated below."
   ]
  },
  {
   "cell_type": "code",
   "execution_count": null,
   "metadata": {},
   "outputs": [],
   "source": []
  },
  {
   "cell_type": "markdown",
   "metadata": {},
   "source": [
    "## Implement a Bloom filter."
   ]
  },
  {
   "cell_type": "markdown",
   "metadata": {},
   "source": [
    "### Import important functions"
   ]
  },
  {
   "cell_type": "code",
   "execution_count": 19,
   "metadata": {},
   "outputs": [],
   "source": [
    "# import libraries for later use\n",
    "import string # for creating input\n",
    "import random # for randomizing input\n",
    "import math # for math use\n",
    "import numpy as np # for numerical processing\n",
    "import matplotlib.pyplot as plt #for plotting"
   ]
  },
  {
   "cell_type": "markdown",
   "metadata": {},
   "source": [
    "### Create data"
   ]
  },
  {
   "cell_type": "code",
   "execution_count": 20,
   "metadata": {},
   "outputs": [],
   "source": [
    "def create_string():\n",
    "    size_of_element = random.randint(1,6)\n",
    "    # first choose the length of the word: a random length between 1 and 6\n",
    "    \n",
    "    # all possible allowed characters (digits or lowercase)\n",
    "    characters = string.digits + string.ascii_lowercase\n",
    "    \n",
    "    #create an output word\n",
    "    output = '' \n",
    "    # create a random word with the length outputted above\n",
    "    for i in range(size_of_element): \n",
    "        # choose a random element in the set of all possible characters\n",
    "        output += random.choice(characters)\n",
    "    return output"
   ]
  },
  {
   "cell_type": "markdown",
   "metadata": {},
   "source": [
    "### Transform data from string type into integer type"
   ]
  },
  {
   "cell_type": "code",
   "execution_count": 21,
   "metadata": {},
   "outputs": [],
   "source": [
    "# data encryption: we want to deal with number\n",
    "# change string into number\n",
    "\n",
    "# This is all possible allowed characters (digits or lowercase)\n",
    "combination = string.digits + string.ascii_lowercase\n",
    "\n",
    "# the dictionary in the list of all possible characters\n",
    "# one nice thing about this dictionary is the index of the elements\n",
    "### is exactly its encoded value\n",
    "dictionary = []\n",
    "for i in combination:\n",
    "    dictionary.append(i)\n",
    "    \n",
    "\n",
    "def input_to_number(x):\n",
    "    # the parameter is the data we need to encode to numbers\n",
    "    x = str(x)\n",
    "    output = 0\n",
    "    # go through the length of the string:\n",
    "    for i in range(len(x)):\n",
    "        # As we are using base 36 \n",
    "        ### -> multiply each element by 36^(its order in the original string)\n",
    "        output += dictionary.index(x[i])*(36**i)\n",
    "    return output"
   ]
  },
  {
   "cell_type": "markdown",
   "metadata": {},
   "source": [
    "### Hash functions and encrypt the location for each element"
   ]
  },
  {
   "cell_type": "code",
   "execution_count": 22,
   "metadata": {},
   "outputs": [],
   "source": [
    "# find prime for the universal hash\n",
    "def find_prime():\n",
    "    # find the smallest prime number > 2**32 \n",
    "    # the reason for 2**32 is because \n",
    "    ### 2**32 > input_to_number(\"zzzzzz\")\n",
    "    # the prime must be odd, so I chose a random odd number\n",
    "    p = random.randrange(2**32 + 1, 2**34 + 1, 2)\n",
    "    while True:  \n",
    "        # check if it is a prime by checking possible divisors\n",
    "        # the divisors range from 3 to sqrt(p)\n",
    "        if all(p % i != 0 for i in range(3, int((p ** 0.5) + 1), 2)):\n",
    "            # all the odd number less than of equal sqrt p\n",
    "            break  \n",
    "        # if not prime\n",
    "        else: \n",
    "            # increase by 2 (maintain the odd properties)\n",
    "            p += 2\n",
    "    return p\n",
    "\n",
    "# as the definition of our hash functions\n",
    "# choose the coefficient: a in [1, p-1], b in [0,p-1]\n",
    "def hash_coefficient(p):\n",
    "    a = random.randint(1, p-1)\n",
    "    b = random.randint(0, p-1)\n",
    "    return [a,b]\n",
    "\n",
    "# create the hash functions\n",
    "def create_hash_function(k):\n",
    "    # the parameters is the number of hash functions we need\n",
    "    # create hash_family as the functions\n",
    "    hash_family = []\n",
    "    for i in range(k):\n",
    "        # find the prime number\n",
    "        p = find_prime()\n",
    "        # find the coefficient\n",
    "        coefficient = hash_coefficient(p)\n",
    "        # append the prime number\n",
    "        coefficient.append(p)\n",
    "        # append this hash function into the family of hash functions\n",
    "        hash_family.append(coefficient)\n",
    "    return hash_family\n",
    "\n",
    "# the location of element after using hash functions\n",
    "def encrypt_variables(x):\n",
    "    location = []\n",
    "    for i in hash_function:\n",
    "        # use each hash function in the hash families\n",
    "        # hash: ((a*x + b) mod p) mod m\n",
    "        location.append(((i[0] * x + i[1]) % i[2]) % m)\n",
    "    return location"
   ]
  },
  {
   "cell_type": "markdown",
   "metadata": {},
   "source": [
    "### Bloom filter functions (insert, import, delete, and check)"
   ]
  },
  {
   "cell_type": "markdown",
   "metadata": {},
   "source": [
    "For bloom filter, I will implement 4 different functions: (and I will base my reasoning on the amazon storage example)\n",
    "\n",
    "insert_element: this function will prepare for the bloom_filter to accept new input. This is neccessary because when need to keep updating, changing our dataset with new inputs instead of only working with 1 initial dataset. For example, Amazon cannot only keep track of the items in storage already, they need to add new items.\n",
    "\n",
    "import_element: this function will cope with the initial state and situations of importing large amount of items. For example, at the beginning, before using bloom filter, Amazon already has a storage full of items already. Hence, we need to use those data to import directly into bloom filter. \n",
    "\n",
    "delete_element: this function is the benefit of the counting bloom filter. As Amazon buy and sell a lot. If we only have the insert function, then the data structure will be overwhelm at some point. Hence, we use counting boom filter to cope with situations those Amazong sell items permanently. \n",
    "\n",
    "check_element: this function will resulted in the item is in the storage or not, with a certain false positive rate. This is neccessary because we can save more time $O(k)$ with k in the number of hash functions to access 1 item in the storage or not. If we use binary search or other search functions, it might get $O(\\log (n))$, which is larger than $k$ if $n$ is really big, which is true in the case of Amazon"
   ]
  },
  {
   "cell_type": "code",
   "execution_count": 48,
   "metadata": {},
   "outputs": [],
   "source": [
    "# insert function: insert new element\n",
    "def insert_element(bloom_filter,x):\n",
    "    # take 2 parameters: bloom_filter and new element\n",
    "    # transform the input to number\n",
    "    new_input = input_to_number(x)\n",
    "    # find the locations of the \"x\" element after hashing\n",
    "    encryption = encrypt_variables(new_input)\n",
    "    # each location will be added by 1\n",
    "    for k in encryption:\n",
    "        bloom_filter[k] += 1\n",
    "    return bloom_filter\n",
    "\n",
    "def import_element(bloom_filter,import_data):\n",
    "    # take 2 parameters: bloom_filter and the import_data\n",
    "    # import_data will be a list in this scenario\n",
    "    # the reason for this function is because we might want to \n",
    "    ### import the whole data from a lists/database instead of each element separately\n",
    "    # the way doing this is simply use the insert_element function\n",
    "    for x in import_data:\n",
    "        insert_element(bloom_filter, x)\n",
    "    \n",
    "    \n",
    "# delete function: delete existed element\n",
    "def delete_element(bloom_filter,x):\n",
    "    # take 2 parameters: bloom_filter and deleted element\n",
    "    # transform the input to number\n",
    "    remove_element = input_to_number(x)\n",
    "    # find the locations of the \"x\" element after hashing\n",
    "    encryption = encrypt_variables(remove_element)\n",
    "    # each location will be decreased by 1\n",
    "    for k in encryption:\n",
    "        bloom_filter[k] -= 1\n",
    "    return bloom_filter\n",
    "\n",
    "# check function: check if an element in the database\n",
    "def check_element(bloom_filter, x):\n",
    "    # take 2 parameters: bloom_filter and the element we want to check\n",
    "    # transform the input to number\n",
    "    check_element = input_to_number(x)\n",
    "    # find the locations of the \"x\" element after hashing\n",
    "    encryption = encrypt_variables(check_element)\n",
    "    product_hash = 1\n",
    "    for k in encryption:\n",
    "        # We need to check if there is any 0 in the locations\n",
    "        # Using the product of those location is efficient\n",
    "        product_hash *= bloom_filter[k]\n",
    "    if product_hash == 0:\n",
    "        # exist at least 1 slot has the value 0 in x's locations\n",
    "        return False\n",
    "    else:\n",
    "        # all x's locations > 0\n",
    "        return True"
   ]
  },
  {
   "cell_type": "markdown",
   "metadata": {},
   "source": [
    "### Implement and test Boom filter"
   ]
  },
  {
   "cell_type": "markdown",
   "metadata": {},
   "source": [
    "#### Test challenge"
   ]
  },
  {
   "cell_type": "code",
   "execution_count": 49,
   "metadata": {},
   "outputs": [],
   "source": [
    "def working_test(bloom_filter, list_of_input, number_of_tests):\n",
    "    # take 3 parameters: bloom_filter, original input, and the number of test running\n",
    "    # create your testing cases\n",
    "    test_cases = []\n",
    "    # create \"number_of_tests test\" cases\n",
    "    for i in range(number_of_tests):\n",
    "        test_cases.append(create_string())\n",
    "    \n",
    "    # for each cases \n",
    "    for i in test_cases:\n",
    "        # see if the element is in the database using bloom filter\n",
    "        result = check_element(bloom_filter, i)\n",
    "        \n",
    "        # positive\n",
    "        if result: \n",
    "            # true positive\n",
    "            if i in list_of_input:\n",
    "                print(\"Positive\", end = ' --- ')\n",
    "            # false positive\n",
    "            else: \n",
    "                print(\"False Positive\", end = ' --- ')\n",
    "                \n",
    "        # true negative\n",
    "        else:\n",
    "            print(\"Negative\", end = ' --- ')\n",
    "            \n",
    "    # I print as above as I don't want to make my output clustered\n",
    "            "
   ]
  },
  {
   "cell_type": "markdown",
   "metadata": {},
   "source": [
    "#### Implement"
   ]
  },
  {
   "cell_type": "code",
   "execution_count": 52,
   "metadata": {},
   "outputs": [],
   "source": [
    "# Set the storage as 1000\n",
    "# Set the number of input to 100\n",
    "hash_function = []\n",
    "m = 1000\n",
    "n = 100\n",
    "\n",
    "# this is the function to check if the bloom filter works\n",
    "def bloom_filter_check(k):\n",
    "    # the parameter is the number of hash functions we want\n",
    "    # the reason we want this variable to be global is to be easier \n",
    "    ### to impliment in the encryptions and other functions\n",
    "    global hash_function\n",
    "    \n",
    "    # create the list of inputs\n",
    "    list_of_input = []\n",
    "    bloom_filter = [0]*m\n",
    "    for i in range(n):\n",
    "        list_of_input.append(create_string())\n",
    "    \n",
    "    # create the hash functions\n",
    "    hash_function = create_hash_function(k)\n",
    "    \n",
    "    # insert the list_of_input into the empty bloom filter\n",
    "    import_element(bloom_filter,list_of_input)\n",
    "    # We can also try the insert_element function:\n",
    "    insert_element(bloom_filter, \"cs110\")\n",
    "        \n",
    "    # check for 100 test cases and return the result of whether  \n",
    "    ### that element is in the list or not\n",
    "    working_test(bloom_filter, list_of_input, 100)"
   ]
  },
  {
   "cell_type": "code",
   "execution_count": 53,
   "metadata": {},
   "outputs": [
    {
     "name": "stdout",
     "output_type": "stream",
     "text": [
      "Negative --- Positive --- Negative --- Negative --- Negative --- Negative --- Negative --- Negative --- Negative --- Negative --- Negative --- Negative --- Negative --- Negative --- False Positive --- Negative --- Negative --- Negative --- Negative --- Negative --- Negative --- Negative --- Negative --- Negative --- Negative --- Negative --- Negative --- Negative --- Negative --- Positive --- Negative --- Negative --- Negative --- Negative --- Negative --- Negative --- Negative --- Negative --- Negative --- Negative --- Negative --- Negative --- Negative --- Negative --- Negative --- Negative --- Negative --- Negative --- Negative --- Negative --- Negative --- Negative --- Negative --- Positive --- Negative --- Positive --- Negative --- Negative --- Positive --- Negative --- Negative --- Negative --- Negative --- Negative --- Negative --- Negative --- Negative --- Negative --- Negative --- Negative --- Negative --- Negative --- Negative --- Negative --- Negative --- Negative --- Negative --- Negative --- Negative --- Negative --- Negative --- Negative --- Negative --- Negative --- Negative --- Negative --- Negative --- Negative --- Negative --- Negative --- Negative --- Negative --- Negative --- Negative --- Negative --- Negative --- Negative --- Negative --- Negative --- Negative --- \n",
      "\n",
      "Negative --- Negative --- Negative --- Negative --- Negative --- Negative --- Negative --- Negative --- Negative --- Negative --- Negative --- Negative --- Positive --- Negative --- Negative --- Negative --- Negative --- Negative --- Negative --- Negative --- Negative --- Negative --- Negative --- Negative --- Negative --- Positive --- Negative --- Negative --- Negative --- Negative --- Negative --- Negative --- Negative --- Negative --- Negative --- Negative --- Negative --- Negative --- Negative --- Negative --- Negative --- Negative --- Negative --- Negative --- Negative --- Negative --- Negative --- Negative --- Negative --- Negative --- Negative --- Negative --- Negative --- Negative --- Negative --- Negative --- Negative --- Positive --- Negative --- Negative --- Negative --- Negative --- Negative --- Negative --- Negative --- Negative --- Negative --- Negative --- Negative --- Negative --- Negative --- Negative --- Negative --- Negative --- Negative --- Positive --- Negative --- Negative --- Negative --- False Positive --- Negative --- Negative --- Negative --- Negative --- Negative --- Negative --- Negative --- Negative --- Negative --- Negative --- Negative --- Negative --- Negative --- Negative --- Negative --- Negative --- Negative --- Negative --- Negative --- Negative --- \n",
      "\n",
      "Negative --- Negative --- Negative --- Negative --- Negative --- Negative --- Negative --- Negative --- Negative --- Negative --- Negative --- Negative --- Negative --- Negative --- Negative --- Negative --- Negative --- Negative --- Negative --- Negative --- Negative --- Negative --- Negative --- Negative --- Negative --- Negative --- False Positive --- Negative --- Negative --- Negative --- Negative --- Negative --- Negative --- Negative --- Negative --- Negative --- Negative --- Negative --- Negative --- Negative --- Negative --- Negative --- Negative --- Positive --- Negative --- Negative --- Negative --- Negative --- Negative --- Negative --- Negative --- Negative --- Negative --- Negative --- Negative --- Negative --- Negative --- Negative --- Negative --- Negative --- Negative --- Negative --- Negative --- Negative --- Negative --- Negative --- Negative --- Negative --- Negative --- Negative --- Positive --- Positive --- Negative --- Negative --- Negative --- Negative --- Negative --- Negative --- Negative --- Negative --- Negative --- Negative --- Negative --- Negative --- Negative --- Negative --- Negative --- Negative --- Negative --- Negative --- Negative --- Negative --- Negative --- Negative --- Negative --- Negative --- Negative --- Negative --- Negative --- Negative --- "
     ]
    }
   ],
   "source": [
    "# run the test cases for 3, 5, 7 hash functions\n",
    "bloom_filter_check(3)\n",
    "print('')\n",
    "print('')\n",
    "bloom_filter_check(5)\n",
    "print('')\n",
    "print('')\n",
    "bloom_filter_check(7)"
   ]
  },
  {
   "cell_type": "markdown",
   "metadata": {},
   "source": [
    "### Test the deletion function"
   ]
  },
  {
   "cell_type": "code",
   "execution_count": 55,
   "metadata": {},
   "outputs": [
    {
     "name": "stdout",
     "output_type": "stream",
     "text": [
      "[0, 0, 0, 0, 1, 1, 1, 1, 0, 1, 1, 0, 0, 1, 1, 1, 2, 2, 2, 2, 0, 1, 0, 1, 0, 0, 2, 1, 0, 0, 0, 0, 0, 1, 1, 0, 0, 0, 2, 0, 0, 0, 0, 0, 0, 0, 0, 0, 0, 0, 0, 1, 1, 0, 1, 1, 0, 0, 0, 0, 1, 1, 0, 1, 2, 0, 0, 0, 1, 0, 1, 0, 1, 1, 1, 0, 0, 1, 1, 2, 0, 0, 1, 1, 0, 2, 0, 0, 0, 1, 0, 0, 0, 0, 0, 0, 0, 0, 0, 0, 1, 0, 1, 0, 0, 0, 0, 0, 1, 1, 1, 0, 0, 1, 1, 3, 1, 0, 1, 1, 0, 0, 0, 0, 3, 2, 2, 1, 1, 1, 0, 0, 0, 1, 0, 1, 0, 0, 0, 0, 0, 0, 0, 1, 0, 0, 1, 0, 1, 1, 1, 0, 0, 0, 1, 1, 0, 0, 0, 1, 0, 1, 1, 0, 0, 0, 0, 0, 0, 0, 0, 0, 0, 0, 0, 2, 0, 0, 0, 0, 0, 1, 2, 0, 0, 0, 2, 0, 0, 0, 0, 1, 0, 0, 0, 0, 1, 1, 1, 0, 0, 2, 0, 0, 1, 1, 1, 1, 1, 0, 0, 1, 1, 1, 0, 1, 1, 0, 0, 0, 0, 1, 1, 0, 1, 1, 1, 1, 0, 0, 0, 1, 0, 0, 1, 2, 2, 0, 0, 0, 0, 2, 0, 0, 1, 0, 0, 0, 0, 2, 0, 0, 1, 2, 0, 0, 0, 0, 2, 1, 0, 2, 0, 2, 1, 0, 1, 0, 0, 0, 1, 1, 0, 0, 0, 0, 1, 1, 1, 2, 2, 0, 0, 0, 0, 0, 0, 0, 0, 3, 0, 0, 0, 0, 0, 1, 0, 0, 0, 0, 0, 0, 0, 0, 0, 1, 1, 0, 1, 0, 2, 0, 0, 0, 0, 0, 1, 2, 0, 0, 0, 0, 1, 0, 0, 0, 1, 2, 1, 0, 1, 0, 0, 0, 0, 2, 3, 0, 0, 3, 1, 2, 1, 0, 0, 1, 0, 2, 1, 0, 0, 2, 0, 1, 0, 0, 0, 0, 2, 2, 0, 0, 0, 0, 2, 1, 0, 0, 0, 2, 1, 0, 0, 2, 0, 0, 0, 0, 0, 1, 1, 1, 0, 1, 1, 0, 0, 0, 1, 0, 2, 1, 0, 0, 2, 1, 0, 0, 1, 0, 0, 1, 0, 0, 1, 0, 0, 1, 1, 0, 1, 1, 1, 2, 0, 0, 1, 0, 0, 1, 1, 0, 1, 2, 1, 1, 0, 0, 0, 1, 0, 0, 2, 0, 1, 0, 0, 0, 1, 1, 1, 0, 0, 3, 1, 0, 1, 1, 0, 1, 0, 0, 1, 0, 0, 1, 0, 0, 0, 0, 2, 0, 0, 2, 1, 0, 1, 0, 0, 0, 0, 0, 0, 0, 2, 0, 0, 0, 0, 0, 0, 2, 0, 0, 0, 1, 1, 0, 0, 1, 0, 0, 1, 0, 0, 2, 0, 0, 1, 2, 1, 0, 0, 0, 0, 0, 1, 1, 1, 1, 1, 0, 1, 0, 0, 0, 0, 0, 0, 1, 0, 2, 1, 2, 1, 2, 0, 0, 0, 1, 0, 0, 0, 0, 1, 0, 1, 0, 2, 0, 1, 0, 0, 1, 1, 1, 2, 1, 1, 0, 1, 1, 0, 1, 0, 2, 0, 0, 1, 0, 0, 1, 0, 1, 0, 0, 1, 1, 3, 0, 0, 0, 0, 1, 0, 0, 1, 0, 0, 0, 0, 0, 0, 0, 1, 0, 0, 0, 3, 0, 0, 1, 0, 1, 1, 0, 1, 0, 0, 0, 0, 0, 1, 0, 0, 0, 0, 0, 1, 0, 1, 2, 0, 0, 0, 1, 0, 1, 0, 0, 1, 0, 1, 0, 1, 0, 1, 1, 0, 0, 0, 0, 1, 1, 1, 0, 0, 0, 0, 1, 0, 0, 1, 0, 1, 0, 1, 0, 1, 2, 0, 0, 0, 0, 0, 0, 0, 0, 1, 1, 0, 0, 1, 1, 0, 0, 0, 1, 0, 1, 0, 2, 2, 0, 0, 0, 0, 1, 1, 0, 0, 0, 0, 1, 1, 2, 0, 0, 0, 0, 0, 0, 0, 0, 0, 2, 0, 0, 1, 1, 0, 0, 0, 1, 1, 1, 2, 0, 0, 2, 1, 0, 0, 1, 2, 1, 0, 2, 0, 1, 0, 0, 0, 1, 1, 1, 1, 1, 0, 2, 0, 1, 0, 1, 0, 1, 0, 0, 0, 0, 0, 0, 1, 1, 0, 0, 0, 0, 0, 0, 1, 1, 1, 0, 0, 0, 0, 0, 0, 0, 0, 0, 1, 0, 1, 0, 0, 1, 0, 1, 0, 1, 0, 1, 0, 1, 1, 1, 2, 0, 0, 0, 0, 2, 1, 0, 0, 0, 0, 1, 0, 0, 0, 0, 1, 1, 0, 2, 1, 0, 0, 2, 0, 0, 0, 0, 2, 0, 1, 2, 1, 1, 1, 1, 1, 1, 1, 1, 0, 0, 0, 0, 0, 0, 0, 0, 2, 0, 2, 0, 1, 1, 0, 0, 1, 0, 0, 0, 0, 1, 1, 1, 0, 0, 1, 0, 3, 1, 1, 1, 0, 0, 0, 0, 0, 0, 0, 1, 0, 0, 0, 1, 3, 0, 0, 0, 1, 0, 0, 0, 1, 0, 0, 0, 0, 0, 1, 0, 0, 1, 1, 1, 0, 1, 0, 1, 1, 1, 0, 0, 0, 0, 0, 1, 0, 2, 0, 0, 0, 0, 1, 0, 1, 0, 0, 0, 0, 2, 0, 1, 1, 0, 2, 0, 0, 2, 0, 0, 0, 0, 0, 1, 0, 0, 1, 0, 0, 1, 0, 1, 0, 0, 0, 0, 1, 0, 0, 1, 0, 1, 0, 0, 1, 0, 1, 0, 0, 1, 2, 1, 0, 0, 0, 1, 0, 1, 0, 0, 1, 0, 0, 1, 1, 1, 0, 0, 0, 0, 0, 0, 1, 3, 1, 0, 0, 0, 0, 1, 0, 1, 2, 0, 1, 0, 0, 0, 0, 1, 1, 0, 2, 0, 2, 0, 0, 0, 1, 0, 1, 0]\n",
      "\n",
      "\n",
      "[0, 0, 0, 0, 0, 0, 0, 0, 0, 0, 0, 0, 0, 0, 0, 0, 0, 0, 0, 0, 0, 0, 0, 0, 0, 0, 0, 0, 0, 0, 0, 0, 0, 0, 0, 0, 0, 0, 0, 0, 0, 0, 0, 0, 0, 0, 0, 0, 0, 0, 0, 0, 0, 0, 0, 0, 0, 0, 0, 0, 0, 0, 0, 0, 0, 0, 0, 0, 0, 0, 0, 0, 0, 0, 0, 0, 0, 0, 0, 0, 0, 0, 0, 0, 0, 0, 0, 0, 0, 0, 0, 0, 0, 0, 0, 0, 0, 0, 0, 0, 0, 0, 0, 0, 0, 0, 0, 0, 0, 0, 0, 0, 0, 0, 0, 0, 0, 0, 0, 0, 0, 0, 0, 0, 0, 0, 0, 0, 0, 0, 0, 0, 0, 0, 0, 0, 0, 0, 0, 0, 0, 0, 0, 0, 0, 0, 0, 0, 0, 0, 0, 0, 0, 0, 0, 0, 0, 0, 0, 0, 0, 0, 0, 0, 0, 0, 0, 0, 0, 0, 0, 0, 0, 0, 0, 0, 0, 0, 0, 0, 0, 0, 0, 0, 0, 0, 0, 0, 0, 0, 0, 0, 0, 0, 0, 0, 0, 0, 0, 0, 0, 0, 0, 0, 0, 0, 0, 0, 0, 0, 0, 0, 0, 0, 0, 0, 0, 0, 0, 0, 0, 0, 0, 0, 0, 0, 0, 0, 0, 0, 0, 0, 0, 0, 0, 0, 0, 0, 0, 0, 0, 0, 0, 0, 0, 0, 0, 0, 0, 0, 0, 0, 0, 0, 0, 0, 0, 0, 0, 0, 0, 0, 0, 0, 0, 0, 0, 0, 0, 0, 0, 0, 0, 0, 0, 0, 0, 0, 0, 0, 0, 0, 0, 0, 0, 0, 0, 0, 0, 0, 0, 0, 0, 0, 0, 0, 0, 0, 0, 0, 0, 0, 0, 0, 0, 0, 0, 0, 0, 0, 0, 0, 0, 0, 0, 0, 0, 0, 0, 0, 0, 0, 0, 0, 0, 0, 0, 0, 0, 0, 0, 0, 0, 0, 0, 0, 0, 0, 0, 0, 0, 0, 0, 0, 0, 0, 0, 0, 0, 0, 0, 0, 0, 0, 0, 0, 0, 0, 0, 0, 0, 0, 0, 0, 0, 0, 0, 0, 0, 0, 0, 0, 0, 0, 0, 0, 0, 0, 0, 0, 0, 0, 0, 0, 0, 0, 0, 0, 0, 0, 0, 0, 0, 0, 0, 0, 0, 0, 0, 0, 0, 0, 0, 0, 0, 0, 0, 0, 0, 0, 0, 0, 0, 0, 0, 0, 0, 0, 0, 0, 0, 0, 0, 0, 0, 0, 0, 0, 0, 0, 0, 0, 0, 0, 0, 0, 0, 0, 0, 0, 0, 0, 0, 0, 0, 0, 0, 0, 0, 0, 0, 0, 0, 0, 0, 0, 0, 0, 0, 0, 0, 0, 0, 0, 0, 0, 0, 0, 0, 0, 0, 0, 0, 0, 0, 0, 0, 0, 0, 0, 0, 0, 0, 0, 0, 0, 0, 0, 0, 0, 0, 0, 0, 0, 0, 0, 0, 0, 0, 0, 0, 0, 0, 0, 0, 0, 0, 0, 0, 0, 0, 0, 0, 0, 0, 0, 0, 0, 0, 0, 0, 0, 0, 0, 0, 0, 0, 0, 0, 0, 0, 0, 0, 0, 0, 0, 0, 0, 0, 0, 0, 0, 0, 0, 0, 0, 0, 0, 0, 0, 0, 0, 0, 0, 0, 0, 0, 0, 0, 0, 0, 0, 0, 0, 0, 0, 0, 0, 0, 0, 0, 0, 0, 0, 0, 0, 0, 0, 0, 0, 0, 0, 0, 0, 0, 0, 0, 0, 0, 0, 0, 0, 0, 0, 0, 0, 0, 0, 0, 0, 0, 0, 0, 0, 0, 0, 0, 0, 0, 0, 0, 0, 0, 0, 0, 0, 0, 0, 0, 0, 0, 0, 0, 0, 0, 0, 0, 0, 0, 0, 0, 0, 0, 0, 0, 0, 0, 0, 0, 0, 0, 0, 0, 0, 0, 0, 0, 0, 0, 0, 0, 0, 0, 0, 0, 0, 0, 0, 0, 0, 0, 0, 0, 0, 0, 0, 0, 0, 0, 0, 0, 0, 0, 0, 0, 0, 0, 0, 0, 0, 0, 0, 0, 0, 0, 0, 0, 0, 0, 0, 0, 0, 0, 0, 0, 0, 0, 0, 0, 0, 0, 0, 0, 0, 0, 0, 0, 0, 0, 0, 0, 0, 0, 0, 0, 0, 0, 0, 0, 0, 0, 0, 0, 0, 0, 0, 0, 0, 0, 0, 0, 0, 0, 0, 0, 0, 0, 0, 0, 0, 0, 0, 0, 0, 0, 0, 0, 0, 0, 0, 0, 0, 0, 0, 0, 0, 0, 0, 0, 0, 0, 0, 0, 0, 0, 0, 0, 0, 0, 0, 0, 0, 0, 0, 0, 0, 0, 0, 0, 0, 0, 0, 0, 0, 0, 0, 0, 0, 0, 0, 0, 0, 0, 0, 0, 0, 0, 0, 0, 0, 0, 0, 0, 0, 0, 0, 0, 0, 0, 0, 0, 0, 0, 0, 0, 0, 0, 0, 0, 0, 0, 0, 0, 0, 0, 0, 0, 0, 0, 0, 0, 0, 0, 0, 0, 0, 0, 0, 0, 0, 0, 0, 0, 0, 0, 0, 0, 0, 0, 0, 0, 0, 0, 0, 0, 0, 0, 0, 0, 0, 0, 0, 0, 0, 0, 0, 0, 0, 0, 0, 0, 0, 0, 0, 0, 0, 0, 0, 0, 0, 0, 0, 0, 0, 0, 0, 0, 0, 0, 0, 0, 0, 0, 0, 0, 0, 0, 0, 0, 0, 0, 0, 0, 0, 0, 0, 0, 0, 0, 0, 0, 0, 0, 0, 0, 0, 0, 0, 0, 0, 0, 0, 0, 0, 0, 0, 0, 0, 0, 0, 0, 0, 0, 0, 0, 0, 0, 0, 0, 0, 0, 0, 0, 0, 0, 0, 0, 0, 0, 0, 0, 0, 0, 0, 0, 0, 0, 0, 0, 0, 0, 0, 0, 0, 0, 0, 0, 0, 0, 0, 0, 0, 0, 0, 0, 0, 0, 0, 0, 0, 0, 0, 0, 0, 0, 0, 0, 0, 0, 0, 0, 0, 0, 0, 0, 0, 0, 0, 0, 0]\n",
      "\n",
      "\n",
      "[0, 0, 0, 0, 0, 0, 0, 0, 0, 0, 0, 0, 0, 0, 0, 0, 0, 0, 0, 0, 0, 0, 0, 0, 0, 0, 0, 0, 0, 0, 0, 0, 0, 0, 0, 0, 0, 0, 0, 0, 0, 0, 0, 0, 0, 0, 0, 0, 0, 0, 0, 0, 0, 0, 0, 0, 0, 0, 0, 0, 0, 0, 0, 0, 0, 0, 0, 0, 0, 0, 0, 0, 0, 0, 0, 0, 0, 1, 0, 0, 0, 0, 0, 0, 0, 0, 0, 0, 0, 0, 0, 0, 0, 0, 0, 0, 0, 0, 0, 0, 0, 0, 0, 0, 0, 0, 0, 0, 0, 0, 0, 0, 0, 0, 0, 0, 0, 0, 0, 0, 0, 0, 0, 0, 0, 0, 0, 0, 0, 0, 0, 0, 0, 0, 0, 0, 0, 0, 0, 0, 0, 0, 0, 0, 0, 0, 0, 0, 0, 0, 0, 0, 0, 0, 0, 0, 0, 0, 0, 0, 0, 0, 0, 0, 0, 0, 0, 0, 0, 0, 0, 0, 0, 0, 0, 0, 0, 0, 0, 0, 0, 0, 0, 0, 0, 0, 0, 0, 0, 0, 0, 0, 0, 0, 1, 0, 0, 0, 0, 0, 0, 0, 0, 0, 0, 0, 0, 0, 0, 0, 0, 0, 0, 0, 0, 0, 0, 0, 0, 0, 0, 0, 0, 0, 0, 0, 0, 0, 0, 0, 0, 0, 0, 0, 1, 0, 0, 0, 0, 0, 0, 0, 0, 0, 0, 0, 0, 0, 0, 0, 0, 0, 0, 0, 0, 0, 0, 0, 0, 0, 0, 0, 0, 0, 0, 0, 0, 0, 0, 0, 0, 0, 0, 0, 0, 0, 0, 0, 0, 0, 0, 0, 0, 0, 0, 0, 0, 0, 0, 0, 0, 0, 0, 0, 0, 0, 0, 0, 0, 0, 0, 0, 0, 0, 0, 0, 0, 0, 0, 0, 0, 0, 0, 0, 0, 0, 0, 0, 0, 0, 0, 0, 0, 0, 0, 0, 0, 0, 0, 0, 0, 0, 0, 0, 0, 0, 0, 0, 0, 0, 0, 0, 0, 0, 0, 0, 0, 0, 0, 0, 0, 0, 0, 0, 0, 0, 0, 0, 0, 0, 0, 0, 0, 0, 0, 0, 0, 0, 0, 0, 0, 0, 0, 0, 0, 0, 0, 0, 0, 0, 0, 0, 0, 0, 0, 0, 0, 0, 0, 0, 0, 0, 0, 0, 0, 0, 0, 0, 0, 0, 0, 0, 0, 0, 0, 0, 0, 0, 0, 0, 0, 0, 0, 0, 0, 0, 0, 0, 0, 0, 0, 0, 0, 0, 0, 0, 0, 0, 0, 0, 0, 0, 0, 0, 0, 0, 0, 0, 0, 0, 0, 0, 0, 0, 0, 0, 0, 0, 0, 0, 0, 0, 0, 0, 0, 0, 0, 0, 0, 0, 0, 0, 0, 0, 0, 0, 0, 0, 0, 0, 0, 0, 0, 0, 0, 0, 0, 0, 0, 0, 0, 0, 0, 0, 0, 0, 0, 0, 0, 0, 0, 0, 0, 0, 0, 0, 0, 0, 0, 0, 0, 0, 0, 0, 0, 0, 0, 0, 0, 0, 0, 0, 0, 0, 0, 0, 0, 0, 0, 0, 0, 0, 0, 0, 0, 0, 0, 0, 0, 0, 0, 0, 0, 0, 0, 0, 0, 0, 0, 0, 0, 0, 0, 0, 0, 0, 0, 0, 0, 0, 0, 0, 0, 0, 0, 0, 0, 0, 0, 0, 0, 0, 0, 1, 0, 0, 0, 0, 0, 0, 0, 0, 0, 0, 0, 0, 0, 0, 0, 0, 0, 0, 0, 0, 0, 0, 0, 0, 0, 0, 0, 0, 0, 0, 0, 0, 0, 0, 0, 0, 0, 0, 0, 0, 0, 0, 0, 0, 0, 0, 0, 0, 0, 0, 0, 0, 0, 0, 0, 0, 0, 0, 0, 0, 0, 0, 0, 0, 0, 0, 0, 0, 0, 0, 0, 0, 0, 0, 0, 0, 0, 0, 0, 0, 0, 0, 0, 0, 0, 0, 0, 0, 0, 0, 0, 0, 0, 0, 0, 0, 0, 0, 0, 0, 0, 0, 0, 0, 0, 0, 0, 0, 0, 0, 0, 0, 0, 0, 0, 0, 0, 0, 0, 0, 0, 0, 0, 0, 0, 0, 0, 0, 0, 0, 0, 0, 0, 0, 0, 0, 0, 0, 0, 0, 0, 0, 0, 0, 0, 0, 0, 0, 0, 0, 0, 0, 0, 0, 0, 0, 0, 0, 0, 0, 0, 0, 0, 0, 0, 0, 0, 0, 0, 0, 0, 0, 0, 0, 0, 0, 0, 0, 0, 0, 0, 0, 0, 0, 0, 0, 0, 0, 0, 0, 0, 0, 0, 0, 0, 0, 0, 0, 0, 0, 0, 0, 0, 0, 0, 0, 0, 0, 0, 0, 0, 0, 0, 0, 0, 0, 0, 0, 0, 0, 0, 0, 0, 0, 0, 0, 0, 0, 0, 0, 0, 0, 0, 0, 0, 0, 0, 0, 0, 0, 0, 0, 0, 0, 0, 0, 0, 0, 0, 0, 0, 0, 0, 0, 0, 0, 0, 0, 0, 0, 0, 0, 0, 0, 0, 0, 0, 0, 0, 0, 0, 0, 0, 0, 0, 0, 0, 0, 0, 0, 0, 0, 0, 0, 0, 0, 0, 0, 0, 0, 0, 0, 0, 0, 0, 0, 0, 0, 0, 0, 0, 0, 0, 0, 0, 0, 0, 0, 0, 0, 0, 0, 0, 0, 0, 0, 0, 0, 0, 0, 0, 0, 0, 0, 0, 0, 0, 0, 0, 0, 0, 0, 1, 0, 0, 0, 0, 0, 0, 0, 0, 0, 0, 0, 0, 0, 0, 0, 0, 0, 0, 0, 0, 0, 0, 0, 0, 0, 0, 0, 0, 0, 0, 0, 0, 0, 0, 0, 0, 0, 0, 0, 0, 0, 0, 0, 0, 0, 0, 0, 0, 0, 0, 0, 0, 0, 0, 0, 0, 0, 0, 0, 0, 0, 0, 0, 0, 0, 0, 0, 0, 0, 0, 0, 0, 0, 0, 0, 0, 0, 0, 0, 0, 0, 0, 0, 0, 0, 0, 0, 0, 0, 0, 0, 0, 0, 0, 0, 0, 0, 0, 0, 0, 0, 0, 0]\n",
      "\n",
      "\n",
      "[0, 0, 0, 0, 0, 0, 0, 0, 0, 0, 0, 0, 0, 0, 0, 0, 0, 0, 0, 0, 0, 0, 0, 0, 0, 0, 0, 0, 0, 0, 0, 0, 0, 0, 0, 0, 0, 0, 0, 0, 0, 0, 0, 0, 0, 0, 0, 0, 0, 0, 0, 0, 0, 0, 0, 0, 0, 0, 0, 0, 0, 0, 0, 0, 0, 0, 0, 0, 0, 0, 0, 0, 0, 0, 0, 0, 0, 0, 0, 0, 0, 0, 0, 0, 0, 0, 0, 0, 0, 0, 0, 0, 0, 0, 0, 0, 0, 0, 0, 0, 0, 0, 0, 0, 0, 0, 0, 0, 0, 0, 0, 0, 0, 0, 0, 0, 0, 0, 0, 0, 0, 0, 0, 0, 0, 0, 0, 0, 0, 0, 0, 0, 0, 0, 0, 0, 0, 0, 0, 0, 0, 0, 0, 0, 0, 0, 0, 0, 0, 0, 0, 0, 0, 0, 0, 0, 0, 0, 0, 0, 0, 0, 0, 0, 0, 0, 0, 0, 0, 0, 0, 0, 0, 0, 0, 0, 0, 0, 0, 0, 0, 0, 0, 0, 0, 0, 0, 0, 0, 0, 0, 0, 0, 0, 0, 0, 0, 0, 0, 0, 0, 0, 0, 0, 0, 0, 0, 0, 0, 0, 0, 0, 0, 0, 0, 0, 0, 0, 0, 0, 0, 0, 0, 0, 0, 0, 0, 0, 0, 0, 0, 0, 0, 0, 0, 0, 0, 0, 0, 0, 0, 0, 0, 0, 0, 0, 0, 0, 0, 0, 0, 0, 0, 0, 0, 0, 0, 0, 0, 0, 0, 0, 0, 0, 0, 0, 0, 0, 0, 0, 0, 0, 0, 0, 0, 0, 0, 0, 0, 0, 0, 0, 0, 0, 0, 0, 0, 0, 0, 0, 0, 0, 0, 0, 0, 0, 0, 0, 0, 0, 0, 0, 0, 0, 0, 0, 0, 0, 0, 0, 0, 0, 0, 0, 0, 0, 0, 0, 0, 0, 0, 0, 0, 0, 0, 0, 0, 0, 0, 0, 0, 0, 0, 0, 0, 0, 0, 0, 0, 0, 0, 0, 0, 0, 0, 0, 0, 0, 0, 0, 0, 0, 0, 0, 0, 0, 0, 0, 0, 0, 0, 0, 0, 0, 0, 0, 0, 0, 0, 0, 0, 0, 0, 0, 0, 0, 0, 0, 0, 0, 0, 0, 0, 0, 0, 0, 0, 0, 0, 0, 0, 0, 0, 0, 0, 0, 0, 0, 0, 0, 0, 0, 0, 0, 0, 0, 0, 0, 0, 0, 0, 0, 0, 0, 0, 0, 0, 0, 0, 0, 0, 0, 0, 0, 0, 0, 0, 0, 0, 0, 0, 0, 0, 0, 0, 0, 0, 0, 0, 0, 0, 0, 0, 0, 0, 0, 0, 0, 0, 0, 0, 0, 0, 0, 0, 0, 0, 0, 0, 0, 0, 0, 0, 0, 0, 0, 0, 0, 0, 0, 0, 0, 0, 0, 0, 0, 0, 0, 0, 0, 0, 0, 0, 0, 0, 0, 0, 0, 0, 0, 0, 0, 0, 0, 0, 0, 0, 0, 0, 0, 0, 0, 0, 0, 0, 0, 0, 0, 0, 0, 0, 0, 0, 0, 0, 0, 0, 0, 0, 0, 0, 0, 0, 0, 0, 0, 0, 0, 0, 0, 0, 0, 0, 0, 0, 0, 0, 0, 0, 0, 0, 0, 0, 0, 0, 0, 0, 0, 0, 0, 0, 0, 0, 0, 0, 0, 0, 0, 0, 0, 0, 0, 0, 0, 0, 0, 0, 0, 0, 0, 0, 0, 0, 0, 0, 0, 0, 0, 0, 0, 0, 0, 0, 0, 0, 0, 0, 0, 0, 0, 0, 0, 0, 0, 0, 0, 0, 0, 0, 0, 0, 0, 0, 0, 0, 0, 0, 0, 0, 0, 0, 0, 0, 0, 0, 0, 0, 0, 0, 0, 0, 0, 0, 0, 0, 0, 0, 0, 0, 0, 0, 0, 0, 0, 0, 0, 0, 0, 0, 0, 0, 0, 0, 0, 0, 0, 0, 0, 0, 0, 0, 0, 0, 0, 0, 0, 0, 0, 0, 0, 0, 0, 0, 0, 0, 0, 0, 0, 0, 0, 0, 0, 0, 0, 0, 0, 0, 0, 0, 0, 0, 0, 0, 0, 0, 0, 0, 0, 0, 0, 0, 0, 0, 0, 0, 0, 0, 0, 0, 0, 0, 0, 0, 0, 0, 0, 0, 0, 0, 0, 0, 0, 0, 0, 0, 0, 0, 0, 0, 0, 0, 0, 0, 0, 0, 0, 0, 0, 0, 0, 0, 0, 0, 0, 0, 0, 0, 0, 0, 0, 0, 0, 0, 0, 0, 0, 0, 0, 0, 0, 0, 0, 0, 0, 0, 0, 0, 0, 0, 0, 0, 0, 0, 0, 0, 0, 0, 0, 0, 0, 0, 0, 0, 0, 0, 0, 0, 0, 0, 0, 0, 0, 0, 0, 0, 0, 0, 0, 0, 0, 0, 0, 0, 0, 0, 0, 0, 0, 0, 0, 0, 0, 0, 0, 0, 0, 0, 0, 0, 0, 0, 0, 0, 0, 0, 0, 0, 0, 0, 0, 0, 0, 0, 0, 0, 0, 0, 0, 0, 0, 0, 0, 0, 0, 0, 0, 0, 0, 0, 0, 0, 0, 0, 0, 0, 0, 0, 0, 0, 0, 0, 0, 0, 0, 0, 0, 0, 0, 0, 0, 0, 0, 0, 0, 0, 0, 0, 0, 0, 0, 0, 0, 0, 0, 0, 0, 0, 0, 0, 0, 0, 0, 0, 0, 0, 0, 0, 0, 0, 0, 0, 0, 0, 0, 0, 0, 0, 0, 0, 0, 0, 0, 0, 0, 0, 0, 0, 0, 0, 0, 0, 0, 0, 0, 0, 0, 0, 0, 0, 0, 0, 0, 0, 0, 0, 0, 0, 0, 0, 0, 0, 0, 0, 0, 0, 0, 0, 0, 0, 0, 0, 0, 0, 0, 0, 0, 0, 0, 0, 0, 0, 0, 0, 0, 0, 0, 0, 0, 0, 0, 0, 0, 0, 0, 0, 0, 0, 0, 0, 0, 0, 0, 0, 0, 0, 0, 0, 0, 0, 0, 0, 0, 0, 0, 0, 0, 0, 0, 0, 0, 0, 0, 0, 0, 0, 0, 0, 0, 0, 0]\n"
     ]
    }
   ],
   "source": [
    "# this is only to demonstrate the deletion use\n",
    "# deletion is the special benefits of counting bloom filter\n",
    "\n",
    "hash_function = []\n",
    "def bloom_filter_deletion(k):\n",
    "    # the reason we want this variable to be global is to be easier \n",
    "    ### to impliment in the encryptions and other functions\n",
    "    global hash_function\n",
    "    \n",
    "    # create the list of inputs\n",
    "    list_of_input = []\n",
    "    bloom_filter = [0]*m\n",
    "    for i in range(n):\n",
    "        list_of_input.append(create_string())\n",
    "    \n",
    "    # create the hash functions\n",
    "    hash_function = create_hash_function(k)\n",
    "    \n",
    "    # insert the list_of_input into the empty bloom filter\n",
    "    import_element(bloom_filter,list_of_input)\n",
    "    # We can also try the insert_element function:\n",
    "    print(bloom_filter)\n",
    "    print('')\n",
    "    print('')\n",
    "    \n",
    "    # now we delete the element we know that is in the list\n",
    "    for x in list_of_input:\n",
    "        # delete each element\n",
    "        delete_element(bloom_filter, x)\n",
    "    print(bloom_filter)\n",
    "    print('')\n",
    "    print('')\n",
    "    \n",
    "    # we can try with a specific key\n",
    "    insert_element(bloom_filter, \"cs110\")\n",
    "    print(bloom_filter)\n",
    "    print('')\n",
    "    print('')\n",
    "    # and then delete it\n",
    "    delete_element(bloom_filter, \"cs110\")\n",
    "    print(bloom_filter)       \n",
    "    \n",
    "\n",
    "bloom_filter_deletion(5)"
   ]
  },
  {
   "cell_type": "code",
   "execution_count": null,
   "metadata": {},
   "outputs": [],
   "source": []
  },
  {
   "cell_type": "markdown",
   "metadata": {},
   "source": [
    "## Give a description of the hash functions that your implementation uses."
   ]
  },
  {
   "cell_type": "markdown",
   "metadata": {},
   "source": [
    "### Hash function"
   ]
  },
  {
   "cell_type": "markdown",
   "metadata": {},
   "source": [
    "As I want to build the ideal $k$ number of hash functions based on the input $m$ and $n$, hence, I need to build generic hash functions. The approach is called \"universal hashing\".\n",
    "\n",
    "Let $H$ be a finite collection of hash functions that map a given universe $U$ of keys into the range $\\{0, 1, ..., m-1\\}$. Such a collection is said to be \"universal\" if for each pair of distinct keys $k$, $l$ $\\in$ $U$, the number of hash functions $h \\in H$\n",
    "for which $h(k) = h(l)$ is at most $H/m$. In other words, with a hash function randomly chosen from $H$, the chance of a collision between distinct keys $k$ and $l$ is no more than the chance $1/m$ of a collision if $h(k)$ and $h(l)$ were randomly and independently chosen from the set $\\{0, 1, ..., m-1\\}$\n",
    "\n",
    "Here is the hash function: Choose a prime number $p$ large enough so that every possible key $k$ is in the range $0$ to $p-1$, inclusive. Let $Z_p$ denote the set $\\{0, 1, ..., p-1\\}$, and let $Z_p^\\ast$ denote the set $\\{1, 2, ..., p-1\\}$. Because we assume that the\n",
    "size of the universe of keys is greater than the number of slots in the hash table, we have $p>m$.\n",
    "\n",
    "The hash function: For any $a \\in Z\\ast$ and $b \\in Z$, using a\n",
    "linear transformation followed by reductions modulo $p$ and then modulo $m$: $$h_{ab}(x) = ((ax + b) \\; mod \\: p) \\; mod \\: m $$ \n",
    "We say the created hash function is universal because: Consider two distinct keys $k, l \\in Z_p$, so that $k \\ne l$. For a given\n",
    "hash function $h_{ab}$ we let: \n",
    "$$r = (ak + b) \\: mod \\: p$$ \n",
    "$$s = (al + b) \\: mod \\: p$$\n",
    "We have: $r \\ne s$ because $r - s = a(k-l) \\: mod \\: p$. If $r=s$ $\\Rightarrow$ $a(k-l)=0 \\: mod \\: p$. As $p$ is a prime, both $a$ and $k-l$ are nonzero mod $p$, and so their product must also be nonzero mod $p$, contradict $a(k-l)=0 \\: mod \\: p$. Hence, $r \\ne s$.\n",
    "\n",
    "Therefore, when computing any $h_{ab} \\in H$ , distinct inputs $k$ and $l$ map to distinct. values $r$ and $s$ mod $p$; there are no collisions yet at the “mod $p$ level.” Moreover, each of the possible $p(p-1)$ choices for the pair $(a,b)$ with $a\\ne 0$ yields a different\n",
    "resulting pair $(r,s)$ with $r \\ne s$, since we can solve for $a$ and $b$ given $r and $s:\n",
    "$$a = ((r-s)((k-l)^{-1} \\: mod \\: p)) \\: mod \\: p$$\n",
    "$$b = (r - ak) \\: mod \\: p$$\n",
    "where $(k-l)^{-1} \\: mod \\: p$ denotes the unique multiplicative inverse, mod $p$ of $k-l$: $(k-l)(k-l)^{-1} = 1 \\: mod \\: p$.\n",
    "\n",
    "Since there is a one-to-one correspondence between pairs $(a,b)$ with $a \\ne 0$ and pairs $(r,s)$ with $r\\ne s$ - \"bijection\". Thus, for any given pair of inputs $k$ and $l$, if we pick $(a,b)$ uniformly\n",
    "at random, the resulting pair $(r,s)$ is equally likely to be any pair of distinct values mod $p$.\n",
    "\n",
    "Therefore, the probability that distinct keys $k$ and $l$ collide is equal to the probability that $r=s \\: mod \\: m$ when $r$ and $s$ are randomly chosen as distinct values mod $p$. As $p$ and $m$ are independent, $r$ and $s$ will be chosen as random values mod $m$. The chance for collisions is $1/m$. Hence, $H$ is universal. $H$ hash functions will create a uniform random distribution as the chance for collisions is $1/m$. \n",
    "\n",
    "To increase randomization, we can also regenerate a different value of the prime number $p$ for each hash function. With the randomization of $p$, the coefficient $a,b$, we will create $k$ hash functions those are independent and all create uniform random distribution.\n",
    "\n",
    "(proof was partially retrieved from Cormen et al.)"
   ]
  },
  {
   "cell_type": "markdown",
   "metadata": {},
   "source": [
    "### Input_to_number function"
   ]
  },
  {
   "cell_type": "markdown",
   "metadata": {},
   "source": [
    "As I want my bloom filter to work both on numbers and letters, I need a function to convert string to number. To restrict the type of input, I only allow a less-than-7-character input contains only lowercase characters and digits. As we have 10 digits $(0-9)$ and 26 letters, I propose using a base-36 (hexatridecimal) numerical system  is a positional numeral system using 36 as the radix. This type of encryption will create a unique output for an input and also vice versa - bijection. Also, this type of encryption will save memories and avoid collisions. Its output range from $0$ to $2176782335$ (this is the smallest case: $0$ and the biggest case: \"zzzzzz\"), and all output maps back to 1 distinct input. No spared/unused number or collisions. The detailed was described in the code."
   ]
  },
  {
   "cell_type": "markdown",
   "metadata": {},
   "source": [
    "### Input restriction to fit the encrytion and hash functions"
   ]
  },
  {
   "cell_type": "markdown",
   "metadata": {},
   "source": [
    "In the implementation, as we restrict the input to be a less-than-7-character words (whether number of lowercase letter). In the definition of the hash functions, we mentioned the need for choosing a prime number $p$ large enough so that every possible key $k$ is in the range $0 \\rightarrow p-1$, inclusive. Hence, $p > 2176782335$ (the  biggest case of less-than-7-character). As $32 > log_2(2176782335) > 31$. Hence, we can set $p$ to be a random prime larger than $2^{32}$. This will guarantee the property of the hash function"
   ]
  },
  {
   "cell_type": "code",
   "execution_count": null,
   "metadata": {},
   "outputs": [],
   "source": []
  },
  {
   "cell_type": "markdown",
   "metadata": {},
   "source": [
    "## Provide an analysis of how your implementation scales in terms of:"
   ]
  },
  {
   "cell_type": "markdown",
   "metadata": {},
   "source": [
    "For counting blooming filter, there is no difference from the standard bloom filter in the relationship between false positive rate, the stored input, and the number of hashes. As the counting bloom filter only has 1 significant improvement is the deletion function. The remaining variables stay the same. The memory size might need to be bigger (As we are not storing 0 or 1, but we are storing an interger). However, in the scope of this assignment, we can consider both types of filters have the same memory size\n",
    "\n",
    "Notes: in real life, we can consider 1 slot has maximum 4 bits to store (up to 15 - \"1111\"). Hence, if given the number of bits, divide by 4 will be the number of slots in the array. \n",
    "\n",
    "In this assignment, the memory size will be understood as the number of slots initially in the bloom filter. \n",
    "\n",
    "As the similarity to the standard boom filter, we still have several key findings: \n",
    "$$pf \\approx (1-e^{-kn/m})^k$$\n",
    "For optimal cases: \n",
    "$$k=\\frac{m}{n} \\ln 2$$\n",
    "$$\\frac{m}{n} = -\\frac{\\log_2 pf}{\\ln 2}$$\n",
    "$$k = -\\frac{\\ln pf}{\\ln 2} = \\log_2 p$$"
   ]
  },
  {
   "cell_type": "markdown",
   "metadata": {},
   "source": [
    "### Memory size as a function of the false positive rate"
   ]
  },
  {
   "cell_type": "markdown",
   "metadata": {},
   "source": [
    "If we use the generic formula: \n",
    "$$pf \\approx (1-e^{-kn/m})^k$$\n",
    "\n",
    "When we fixate $n,k$, we have:\n",
    "$$log_k(pf) = 1-e^{-kn/m}$$\n",
    "$$\\Rightarrow e^{-kn/m} = 1 - log_k(pf)$$\n",
    "$$\\Rightarrow -kn/m = \\ln(1 - log_k(pf))$$\n",
    "$$\\Rightarrow -m/kn = log_{1 - log_k(pf)}e$$\n",
    "$$\\Rightarrow m = -kn*log_{1 - log_k(pf)}e$$\n",
    "This is the memory size $m$ as a function of the false positive rate $pf$, given $n$ and $k$ as constant\n",
    "\n",
    "When we want $pf$ to decrease $\\rightarrow$ $(1-e^{-kn/m})^k$ decreases $\\rightarrow$ $1-e^{-kn/m}$ decreases (as $k$ is a positive integer) $\\rightarrow$ $e^{-kn/m}$ increases $\\rightarrow$ $-kn/m$ increases $\\rightarrow$ $kn/m$ decreases $\\rightarrow$ $m$ increases.\n",
    "\n",
    "This is plausible as the more slots we use, along with the uniform distribution of the output of the hash functions, we will have less collisions, which is good $\\rightarrow$ $pf$ decreases"
   ]
  },
  {
   "cell_type": "code",
   "execution_count": null,
   "metadata": {},
   "outputs": [],
   "source": []
  },
  {
   "cell_type": "markdown",
   "metadata": {},
   "source": [
    "If we assume the function will create the ideal number of hash functions for every input given, we will have: $\\frac{m}{n} = -\\frac{\\log_2 p}{\\ln 2}$. \n",
    "\n",
    "Fixate the number of input $n$. Then, follow by the optimal number of bits per element formula: \n",
    "$$\\Rightarrow m = -\\frac{n\\ln (pf)}{(\\ln 2)^2}$$\n",
    "As $-\\frac{n}{(\\ln 2)^2}$ is a constant when we fixate $n$ $\\Rightarrow$ $m = O(\\log (pf))$\n",
    "\n",
    "We can see $m = -\\frac{n\\ln (pf)}{(\\ln 2)^2}$, which implies when $pf$ decreases and $pf$ < 1, $\\ln pf$ is negative and decreases, which make $-\\ln pf$ positive and increases, making $m$ increases: consistent with the finding above."
   ]
  },
  {
   "cell_type": "code",
   "execution_count": null,
   "metadata": {},
   "outputs": [],
   "source": []
  },
  {
   "cell_type": "markdown",
   "metadata": {},
   "source": [
    "### Memory size as a function of the number of items stored"
   ]
  },
  {
   "cell_type": "markdown",
   "metadata": {},
   "source": [
    "If we use the generic formula: \n",
    "$$pf \\approx (1-e^{-kn/m})^k$$\n",
    "\n",
    "When we fixate $pf,k$, we have:\n",
    "$$log_k(pf) = 1-e^{-kn/m}$$\n",
    "$$\\Rightarrow e^{-kn/m} = 1 - log_k(pf)$$\n",
    "$$\\Rightarrow -kn/m = \\ln(1 - log_k(pf))$$\n",
    "$$\\Rightarrow -m/kn = log_{1 - log_k(pf)}e$$\n",
    "$$\\Rightarrow m = -kn*log_{1 - log_k(pf)}e$$\n",
    "As $-k*log_{1 - log_k(pf)}e$ is constant when we fixate $pf$ and k $\\Rightarrow$  $m = O(n)$\n",
    "This is the memory size $m$ as a function of the the number of items stored $n$, given $pf$ and $k$ as constant\n",
    "\n",
    "We have: as $k$ is positive, $log_{1 - log_k(pf)}e$ is negative because $0 < 1 - log_k(pf) < 1$, therefore, $-k*log_{1 - log_k(pf)}e$ is a positive constant. Hence, when $n$ increases, $m = -kn*log_{1 - log_k(pf)}e$ will implies $m$ increases\n",
    "\n",
    "This is plausible as the more number of inputs we stored, if we wish to maintain the number of hash functions and the false positive rate, along with the uniform distribution of the output of the hash functions, we will need more spaces to have less collisions."
   ]
  },
  {
   "cell_type": "code",
   "execution_count": null,
   "metadata": {},
   "outputs": [],
   "source": []
  },
  {
   "cell_type": "markdown",
   "metadata": {},
   "source": [
    "If we assume the function will create the ideal number of hash functions for every input given: $k = \\frac{m}{n}\\ln 2$. \n",
    "\n",
    "Fixate the desired false positive rate $pf$. Then, follow by the optimal number of bits per element formula: \n",
    "$$\\frac{m}{n} = -\\frac{\\log_2 pf}{\\ln 2}$$\n",
    "As $-\\frac{\\ln (pf)}{(\\ln 2)^2}$ is a positive constant when we fixate $pf$ and we know $ pf < 1$ $\\Rightarrow$  $m = O(n)$\n",
    "\n",
    "When $n$ increases $\\rightarrow m$ increases: consistent with the finding above."
   ]
  },
  {
   "cell_type": "code",
   "execution_count": null,
   "metadata": {},
   "outputs": [],
   "source": []
  },
  {
   "cell_type": "markdown",
   "metadata": {},
   "source": [
    "### Access time as a function of the false positive rate"
   ]
  },
  {
   "cell_type": "markdown",
   "metadata": {},
   "source": [
    "For access time: Each time if we want to check if the element is in the list or not, we must go through k hash functions. Hence, the access time is linear to the number of hash functions: $O(k)$\n",
    "\n",
    "As representing the access time as a function of the false positive rate: we have: assuming we have the ideal $k$: value of $k$ that minimizes the false positive probability\n",
    "$$k = \\frac{m}{n}\\ln 2$$\n",
    "$$\\frac{m}{n} = -\\frac{\\log_2pf}{\\ln 2} $$\n",
    "$$\\Rightarrow k = -\\frac{\\ln pf}{\\ln 2} = -log_2 pf$$\n",
    "Hence, the ideal access time is $O(log(pf))$\n",
    "\n",
    "In general cases, when we fixate $m, n$, the function of how $k$ relates to $pf$ would be a curve, where exist a minima at $k = -log_2 pf$. The $pf$ will decrease on the interval $[1,-log_2 pf]$ and increases on the interval $[-log_2 pf, \\infty]$. The ideal $k$ is the value between $\\lceil k \\rceil$ and $\\lfloor k \\rfloor$, whichever yields the smaller $pf$.\n",
    "\n",
    "The curve will be presented in the last session as the function of expected false positive rate with respect to $k$, given fixed $m$ and $n$."
   ]
  },
  {
   "cell_type": "code",
   "execution_count": null,
   "metadata": {},
   "outputs": [],
   "source": []
  },
  {
   "cell_type": "markdown",
   "metadata": {},
   "source": [
    "### Access time as a function of the number of items stored"
   ]
  },
  {
   "cell_type": "markdown",
   "metadata": {},
   "source": [
    "For access time: Each time if we want to check if the element is in the list or not, we must go through k hash functions. Hence, the access time is linear to the number of hash functions: $O(k)$\n",
    "\n",
    "As representing the access time as a function of the number of items stored: we have: assuming we have the ideal $k$: value of $k$ that minimizes the false positive probability\n",
    "$$k = \\frac{m}{n}\\ln 2$$\n",
    "Then when we fixate $m$, then we have the inverse relation between $k$ and $n$: $k = O(n^{-1})$\n",
    "\n",
    "The reason for this inverse relation is because: when we have limited memory size - limited slots, if we increase the number of hash functions, then it will create more clusters in the bloom filter as there are so many occupied slots already, hence, will increase the false positive rate. Therefore, with limited memory and a desired positive rate, the more input, the less number of hash functions we need.\n",
    "\n",
    "In my implementation, as I fixed $m$ and $n$ originally and let $k$ runs. Then we check an new input, it has to go through $k$ hash functions $O(k)$ and check with the output. The number of items stored initially $n$ does not affect the checking time of a new input. In my implementation, the number of items stored $n$ is independent with the access time $k$ as I already fixed $n$"
   ]
  },
  {
   "cell_type": "code",
   "execution_count": null,
   "metadata": {},
   "outputs": [],
   "source": []
  },
  {
   "cell_type": "markdown",
   "metadata": {},
   "source": [
    "## Produce a plot to show that your implementation’s false positive rate matches the theoretically expected rate."
   ]
  },
  {
   "cell_type": "markdown",
   "metadata": {},
   "source": [
    "Test the relation between the number of hash functions and the false positive rate, given fixed m, n"
   ]
  },
  {
   "cell_type": "code",
   "execution_count": 61,
   "metadata": {},
   "outputs": [],
   "source": [
    "hash_function = []\n",
    "m = 1000\n",
    "n = 100\n",
    "def bloom_filter_fp_check(k):\n",
    "    # the parameter is the number of hash functions we want\n",
    "    # the reason we want this variable to be global is to be easier \n",
    "    ### to impliment in the encryptions and other functions\n",
    "    global hash_function\n",
    "    \n",
    "    # create the list of inputs\n",
    "    list_of_input = []\n",
    "    bloom_filter = [0]*m\n",
    "    for i in range(n):\n",
    "        list_of_input.append(create_string())\n",
    "    \n",
    "    # create the hash functions\n",
    "    hash_function = create_hash_function(k)\n",
    "    \n",
    "    # import the data into the bloom filter\n",
    "    import_element(bloom_filter, list_of_input)\n",
    "    \n",
    "    # return the function calculating the false positive rate for 1000 test cases\n",
    "    return false_positive_test(bloom_filter, list_of_input, 1000)"
   ]
  },
  {
   "cell_type": "code",
   "execution_count": 62,
   "metadata": {},
   "outputs": [],
   "source": [
    "# this is the function for calculating the false positive rate\n",
    "def false_positive_test(bloom_filter, list_of_input, number_of_tests):\n",
    "    # take 3 parameters: bloom_filter, original input, and the number of test running\n",
    "    # create the testing cases\n",
    "    test_cases = []\n",
    "    # create \"number_of_tests test\" cases\n",
    "    for i in range(number_of_tests):\n",
    "        test_cases.append(create_string())\n",
    "    \n",
    "    # negative is the number of input those not in the original list\n",
    "    # False positive is the number of input those not in the original list \n",
    "    ### but return positive\n",
    "    negative = 0\n",
    "    false_positive = 0\n",
    "    \n",
    "    # running all elements in the test cases\n",
    "    for i in test_cases:\n",
    "        # get the result from the check_element function\n",
    "        result = check_element(bloom_filter, i)\n",
    "        \n",
    "        # if the input not in the original list: negative case\n",
    "        if i not in list_of_input: \n",
    "            # plus 1 to negative\n",
    "            negative += 1\n",
    "            # if the result of the check_element is True --> false positive\n",
    "            if result == True:\n",
    "                # false positive + 1\n",
    "                false_positive += 1\n",
    "    # the false positive rate is the number of false positive cases over all negative cases        \n",
    "    return false_positive/(negative)"
   ]
  },
  {
   "cell_type": "code",
   "execution_count": 63,
   "metadata": {},
   "outputs": [],
   "source": [
    "# this is the theoretical result given by the reading\n",
    "\n",
    "def theoretical(k):\n",
    "    return (1 - np.e**(-k*n/m))**k"
   ]
  },
  {
   "cell_type": "code",
   "execution_count": 87,
   "metadata": {},
   "outputs": [
    {
     "data": {
      "image/png": "[encoded data removed]",
      "text/plain": [
       "<Figure size 432x288 with 1 Axes>"
      ]
     },
     "metadata": {},
     "output_type": "display_data"
    }
   ],
   "source": [
    "m = 1000\n",
    "n = 100\n",
    "# As we will run for at least 30 cases, we need to keep track of the data\n",
    "\n",
    "# this is the tracking of the number of hash functions we will use\n",
    "index = []\n",
    "# this is the tracking for the simulation data\n",
    "avg_fp_simulation = []\n",
    "# this is the tracking for the theoretical result\n",
    "theoretical_result = []\n",
    "\n",
    "# run the test with the number of hashes from 1 to 30\n",
    "for k in range(1,31):\n",
    "    # append the number of hash functions we used\n",
    "    index.append(k)\n",
    "    # append the theoretical results we yield\n",
    "    theoretical_result.append(theoretical(k))\n",
    "    \n",
    "    # for simulation, we will run the test 30 times\n",
    "    # this will ensure the randomness of the sampling and mitigate biases\n",
    "    sampling = []\n",
    "    for i in range(30):\n",
    "        # append the result of 30 times sampling\n",
    "        \n",
    "        sampling.append(bloom_filter_fp_check(k))\n",
    "    # we only append the average of these results to the simulation results\n",
    "    avg_fp_simulation.append(np.mean(sampling))\n",
    "\n",
    "# plot the results, with the number of hashes as the x-axis, positive rate as the false positive rate\n",
    "# theoretical result is red line, the simulation is the blue line\n",
    "plt.plot(index, theoretical_result,color='red')    \n",
    "plt.plot(index, avg_fp_simulation)\n",
    "plt.xlabel('Number of hash functions with m=1000, n=100')\n",
    "plt.ylabel(\"False positive rate with m=1000, n=100\")\n",
    "plt.show() \n",
    "\n"
   ]
  },
  {
   "cell_type": "code",
   "execution_count": 89,
   "metadata": {},
   "outputs": [
    {
     "name": "stdout",
     "output_type": "stream",
     "text": [
      "simulations: k yields the lowest pf 7\n",
      "theoretical: k yields the lowest pf 7\n"
     ]
    }
   ],
   "source": [
    "print(\"simulations: k yields the lowest pf\" ,index[avg_fp_simulation.index(min(avg_fp_simulation))])\n",
    "print(\"theoretical: k yields the lowest pf\" ,index[theoretical_result.index(min(theoretical_result))])"
   ]
  },
  {
   "cell_type": "code",
   "execution_count": 77,
   "metadata": {},
   "outputs": [
    {
     "data": {
      "image/png": "[encoded data removed]",
      "text/plain": [
       "<Figure size 432x288 with 1 Axes>"
      ]
     },
     "metadata": {},
     "output_type": "display_data"
    },
    {
     "name": "stdout",
     "output_type": "stream",
     "text": [
      "simulations: k yields the lowest pf 3\n",
      "theoretical: k yields the lowest pf 3\n"
     ]
    }
   ],
   "source": [
    "m = 500\n",
    "n = 100\n",
    "\n",
    "# As we will run for at least 30 cases, we need to keep track of the data\n",
    "\n",
    "# this is the tracking of the number of hash functions we will use\n",
    "index = []\n",
    "# this is the tracking for the simulation data\n",
    "avg_fp_simulation = []\n",
    "# this is the tracking for the theoretical result\n",
    "theoretical_result = []\n",
    "\n",
    "# run the test with the number of hashes from 1 to 30\n",
    "for k in range(1,31):\n",
    "    # append the number of hash functions we used\n",
    "    index.append(k)\n",
    "    # append the theoretical results we yield\n",
    "    theoretical_result.append(theoretical(k))\n",
    "    \n",
    "    # for simulation, we will run the test 30 times\n",
    "    # this will ensure the randomness of the sampling and mitigate biases\n",
    "    sampling = []\n",
    "    for i in range(30):\n",
    "        # append the result of 30 times sampling\n",
    "        \n",
    "        sampling.append(bloom_filter_fp_check(k))\n",
    "    # we only append the average of these results to the simulation results\n",
    "    avg_fp_simulation.append(np.mean(sampling))\n",
    "\n",
    "# plot the results, with the number of hashes as the x-axis, positive rate as the false positive rate\n",
    "# theoretical result is red line, the simulation is the blue line\n",
    "plt.plot(index, theoretical_result,color='red')    \n",
    "plt.plot(index, avg_fp_simulation)\n",
    "plt.xlabel('Number of hash functions with m=500, n=100')\n",
    "plt.ylabel(\"False positive rate with m=500, n=100\")\n",
    "plt.show()  \n",
    "\n",
    "print(\"simulations: k yields the lowest pf\" ,index[avg_fp_simulation.index(min(avg_fp_simulation))])\n",
    "print(\"theoretical: k yields the lowest pf\" ,index[theoretical_result.index(min(theoretical_result))])"
   ]
  },
  {
   "cell_type": "code",
   "execution_count": 83,
   "metadata": {},
   "outputs": [
    {
     "data": {
      "image/png": "[encoded data removed]",
      "text/plain": [
       "<Figure size 432x288 with 1 Axes>"
      ]
     },
     "metadata": {},
     "output_type": "display_data"
    },
    {
     "name": "stdout",
     "output_type": "stream",
     "text": [
      "simulations: k yields the lowest pf 6\n",
      "theoretical: k yields the lowest pf 6\n"
     ]
    }
   ],
   "source": [
    "m = 800\n",
    "n = 100\n",
    "# As we will run for at least 30 cases, we need to keep track of the data\n",
    "\n",
    "# this is the tracking of the number of hash functions we will use\n",
    "index = []\n",
    "# this is the tracking for the simulation data\n",
    "avg_fp_simulation = []\n",
    "# this is the tracking for the theoretical result\n",
    "theoretical_result = []\n",
    "\n",
    "# run the test with the number of hashes from 1 to 30\n",
    "for k in range(1,31):\n",
    "    # append the number of hash functions we used\n",
    "    index.append(k)\n",
    "    # append the theoretical results we yield\n",
    "    theoretical_result.append(theoretical(k))\n",
    "    \n",
    "    # for simulation, we will run the test 30 times\n",
    "    # this will ensure the randomness of the sampling and mitigate biases\n",
    "    sampling = []\n",
    "    for i in range(30):\n",
    "        # append the result of 30 times sampling\n",
    "        \n",
    "        sampling.append(bloom_filter_fp_check(k))\n",
    "    # we only append the average of these results to the simulation results\n",
    "    avg_fp_simulation.append(np.mean(sampling))\n",
    "\n",
    "# plot the results, with the number of hashes as the x-axis, positive rate as the false positive rate\n",
    "# theoretical result is red line, the simulation is the blue line\n",
    "plt.plot(index, theoretical_result,color='red')    \n",
    "plt.plot(index, avg_fp_simulation)\n",
    "plt.xlabel('Number of hash functions with m=750, n=100')\n",
    "plt.ylabel(\"False positive rate with m=750, n=100\")\n",
    "plt.show() \n",
    "\n",
    "print(\"simulations: k yields the lowest pf\" ,index[avg_fp_simulation.index(min(avg_fp_simulation))])\n",
    "print(\"theoretical: k yields the lowest pf\" ,index[theoretical_result.index(min(theoretical_result))])"
   ]
  },
  {
   "cell_type": "markdown",
   "metadata": {},
   "source": [
    "Interpretations: As we can see for 3 random test cases (m=1000, n=100), (m=500, n=100), (m=750, n=100), we can see the simulations yield a matching result with the theoritical result. The reason why I didn't random sampling m,n into 30 test cases is because m,n has constraints, and will immediate affect running time. Also, different m, n can yield very diverse false positive rate (e.g. m=1000, n=10 vs m=1000, n=200). Hence I restricted to 3 test cases. However, with each test cases, random sampling of 30 sub-tests have already been performed. Furthermore, as the conditions I gave for the graph is to demonstrate the relation between $pf$ and $k$, hence, fixing m,n is valid. \n",
    "\n",
    "We can also see that the $k$ yields the minimal $p$ is around $\\frac{m}{n} \\ln 2$ \n",
    "$$m=1000, n=100 \\rightarrow k = 6.9 \\rightarrow k=6 \\: or \\: k=7 \\rightarrow  \\: simulation \\: and \\:  theoretical \\:  results \\:  matched\\:  : k=7$$\n",
    "$$m=500, n=100 \\rightarrow k = 3.5 \\rightarrow k=3 \\: or \\:  k=4 \\rightarrow  \\: simulation \\: and \\:  theoretical \\:  results \\:  matched\\:  : k=3$$\n",
    "$$m=800, n=100 \\rightarrow k = 5.5 \\rightarrow k=5 \\: or \\: k=6 \\rightarrow  \\: simulation \\: and \\:  theoretical \\:  results \\:  matched\\:  : k=6$$"
   ]
  },
  {
   "cell_type": "code",
   "execution_count": null,
   "metadata": {},
   "outputs": [],
   "source": []
  },
  {
   "cell_type": "markdown",
   "metadata": {},
   "source": [
    "### Appendix"
   ]
  },
  {
   "cell_type": "markdown",
   "metadata": {},
   "source": [
    "$\\#$dataviz: This work contains multiple appropriate data visualization with effective data storage, color coding, and variables chosen. I also effectively analyzes and interprets a data visualization and provide appropriate justification and details to back up my arguments. The graphs also have clear labels.\n",
    "\n",
    "$\\#$sampling: In this work, the student understand that he need to create appropriate sampling to test the codes. Hence, the student decided to use random sampling (using random library and then use string library to create random combination of words), then choose a sampling size of 30 to mitigate biases (and can plausibly approximate normal distribution). This is a deep knowledge of #sampling in testing cases.\n",
    "\n",
    "$\\#$modelling: The student models, simulates the bloom filter, with different test cases and the interpretation of the modelling. The student also explains patterns in empirical data: the match and also the optimal $k$, where the student yields a matching result for simulation and theoretically. This has demonstrated a strong application of $\\#$modelling\n",
    "\n",
    "$\\#$algorithms: strong application of the algorithms by using counting bloom filter and building universal hash functions based on deep knowledge of number theory.\n",
    "\n",
    "$\\#$gapanalysis: identify the constraints of the current bloom filtering (cannot delete items), identify the goal state of being able to delete items. Hence, the counting bloom filter was selected and implemented by the student. This is a strong application of #gapanalysis because the students evaluates the effectiveness of existing problem (stadard bloom filter) and provides appropriate justification for the evaluation with graphs and details on optimal $k$ value for lower $pf$)"
   ]
  },
  {
   "cell_type": "code",
   "execution_count": null,
   "metadata": {},
   "outputs": [],
   "source": []
  }
 ],
 "metadata": {
  "kernelspec": {
   "display_name": "Python 3",
   "language": "python",
   "name": "python3"
  },
  "language_info": {
   "codemirror_mode": {
    "name": "ipython",
    "version": 3
   },
   "file_extension": ".py",
   "mimetype": "text/x-python",
   "name": "python",
   "nbconvert_exporter": "python",
   "pygments_lexer": "ipython3",
   "version": "3.6.5"
  }
 },
 "nbformat": 4,
 "nbformat_minor": 2
}
